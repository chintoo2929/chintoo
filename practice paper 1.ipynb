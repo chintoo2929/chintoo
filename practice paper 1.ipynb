{
 "cells": [
  {
   "cell_type": "code",
   "execution_count": 1,
   "id": "84b391ee",
   "metadata": {},
   "outputs": [
    {
     "name": "stdout",
     "output_type": "stream",
     "text": [
      "<class 'int'> 78\n"
     ]
    }
   ],
   "source": [
    "x = '78'\n",
    "y = int(x)\n",
    "print(type(y),y)"
   ]
  },
  {
   "cell_type": "code",
   "execution_count": 2,
   "id": "3e28fbe8",
   "metadata": {},
   "outputs": [
    {
     "name": "stdout",
     "output_type": "stream",
     "text": [
      "<class 'float'> 40.0\n"
     ]
    }
   ],
   "source": [
    "x = 40\n",
    "y = float(x)\n",
    "print(type(y),y)"
   ]
  },
  {
   "cell_type": "code",
   "execution_count": 4,
   "id": "64fb0e8b",
   "metadata": {},
   "outputs": [
    {
     "name": "stdout",
     "output_type": "stream",
     "text": [
      "{1, 2, 3, 4, 5, 6, 7, 8, 9}\n"
     ]
    }
   ],
   "source": [
    "venkat = [1,2,5,3,6,4,8,7,9,4,2,1]\n",
    "set1 = set(venkat)\n",
    "print(set1)"
   ]
  },
  {
   "cell_type": "markdown",
   "id": "4dd4321b",
   "metadata": {},
   "source": [
    "# length built in functions"
   ]
  },
  {
   "cell_type": "code",
   "execution_count": 6,
   "id": "156fb090",
   "metadata": {},
   "outputs": [
    {
     "data": {
      "text/plain": [
       "12"
      ]
     },
     "execution_count": 6,
     "metadata": {},
     "output_type": "execute_result"
    }
   ],
   "source": [
    "len(venkat)"
   ]
  },
  {
   "cell_type": "code",
   "execution_count": 7,
   "id": "e1660fce",
   "metadata": {},
   "outputs": [
    {
     "data": {
      "text/plain": [
       "9"
      ]
     },
     "execution_count": 7,
     "metadata": {},
     "output_type": "execute_result"
    }
   ],
   "source": [
    "len(set1)"
   ]
  },
  {
   "cell_type": "code",
   "execution_count": 9,
   "id": "dd907047",
   "metadata": {},
   "outputs": [
    {
     "data": {
      "text/plain": [
       "5"
      ]
     },
     "execution_count": 9,
     "metadata": {},
     "output_type": "execute_result"
    }
   ],
   "source": [
    "x='apple'\n",
    "len(x)"
   ]
  },
  {
   "cell_type": "code",
   "execution_count": 10,
   "id": "2da41bd6",
   "metadata": {},
   "outputs": [
    {
     "name": "stdout",
     "output_type": "stream",
     "text": [
      "{'sunil', 'venu'}\n"
     ]
    }
   ],
   "source": [
    "dict1 = {'venu':24, 'sunil':45}\n",
    "set1 = set(dict1)\n",
    "print(set1)"
   ]
  },
  {
   "cell_type": "markdown",
   "id": "fc72c297",
   "metadata": {},
   "source": [
    "# list of tuple with size 2"
   ]
  },
  {
   "cell_type": "code",
   "execution_count": 13,
   "id": "2725e8fe",
   "metadata": {},
   "outputs": [
    {
     "name": "stdout",
     "output_type": "stream",
     "text": [
      "<class 'dict'> {'venu': 24, 'sunil': 34}\n"
     ]
    }
   ],
   "source": [
    "x = [('venu',24), ('sunil',34)]\n",
    "y = dict(x) \n",
    "print(type(y),y)"
   ]
  },
  {
   "cell_type": "markdown",
   "id": "a2c82d66",
   "metadata": {},
   "source": [
    "# .values(), .keys(), .items() buitin in dict"
   ]
  },
  {
   "cell_type": "code",
   "execution_count": 20,
   "id": "ce4dfcd4",
   "metadata": {},
   "outputs": [
    {
     "name": "stdout",
     "output_type": "stream",
     "text": [
      "{2003, 1996}\n",
      "{'kontham_venkatesh', 'kontham_swetha'}\n",
      "[('kontham_venkatesh', 1996), ('kontham_swetha', 2003)]\n"
     ]
    }
   ],
   "source": [
    "x = {'kontham_venkatesh':1996, 'kontham_swetha':2003}\n",
    "print(set(x.values()))\n",
    "print(set(x.keys()))\n",
    "print(list(x.items()))"
   ]
  },
  {
   "cell_type": "code",
   "execution_count": 26,
   "id": "c21bc2f3",
   "metadata": {},
   "outputs": [
    {
     "name": "stdout",
     "output_type": "stream",
     "text": [
      "{'twinkle_twintle': 123, 'uncle_uncle': 456}\n",
      "[('twinkle_twintle', 123), ('uncle_uncle', 456)]\n",
      "{'twinkle_twintle', 'uncle_uncle'}\n",
      "(123, 456)\n"
     ]
    }
   ],
   "source": [
    "swetha = {'twinkle_twintle':123, 'uncle_uncle':456}\n",
    "print(swetha)\n",
    "print(list(swetha.items()))\n",
    "print(set(swetha.keys()))\n",
    "print(tuple(swetha.values()))"
   ]
  },
  {
   "cell_type": "code",
   "execution_count": 27,
   "id": "f5c33e09",
   "metadata": {},
   "outputs": [
    {
     "data": {
      "text/plain": [
       "2"
      ]
     },
     "execution_count": 27,
     "metadata": {},
     "output_type": "execute_result"
    }
   ],
   "source": [
    "len(swetha)"
   ]
  },
  {
   "cell_type": "code",
   "execution_count": 29,
   "id": "2c0413ef",
   "metadata": {},
   "outputs": [
    {
     "name": "stdout",
     "output_type": "stream",
     "text": [
      "{'bhavani': 'u_r_always_mine'}\n"
     ]
    }
   ],
   "source": [
    "bhavani = {'bhavani':'u_r_always_mine'}\n",
    "print(bhavani)"
   ]
  },
  {
   "cell_type": "markdown",
   "id": "e28475a8",
   "metadata": {},
   "source": [
    "## immutability of tuple \n",
    "1) we can change the elements of list inside the tuple \n",
    "2) bt we cannot change the the id of tuple that are stored early"
   ]
  },
  {
   "cell_type": "code",
   "execution_count": 52,
   "id": "29856f8c",
   "metadata": {},
   "outputs": [
    {
     "name": "stdout",
     "output_type": "stream",
     "text": [
      "2038193872640\n",
      "2038195508480\n",
      "2038121195920\n",
      "4\n",
      "([10, 20, 30, 40], 4)\n"
     ]
    }
   ],
   "source": [
    "x = ([1,2,3,4], 4)\n",
    "print(id(x))\n",
    "print(id(x[0]))\n",
    "print(id(x[1]))\n",
    "print(x[1])\n",
    "x[0][0] = 10\n",
    "x[0][1] = 20\n",
    "x[0][2] = 30\n",
    "x[0][3] = 40\n",
    "print(x)\n"
   ]
  },
  {
   "cell_type": "code",
   "execution_count": 53,
   "id": "b382de6f",
   "metadata": {},
   "outputs": [
    {
     "ename": "TypeError",
     "evalue": "'tuple' object does not support item assignment",
     "output_type": "error",
     "traceback": [
      "\u001b[1;31m---------------------------------------------------------------------------\u001b[0m",
      "\u001b[1;31mTypeError\u001b[0m                                 Traceback (most recent call last)",
      "\u001b[1;32m~\\AppData\\Local\\Temp/ipykernel_11348/181960894.py\u001b[0m in \u001b[0;36m<module>\u001b[1;34m\u001b[0m\n\u001b[0;32m      1\u001b[0m \u001b[0mx\u001b[0m \u001b[1;33m=\u001b[0m \u001b[1;33m(\u001b[0m\u001b[1;33m[\u001b[0m\u001b[1;36m1\u001b[0m\u001b[1;33m,\u001b[0m\u001b[1;36m2\u001b[0m\u001b[1;33m,\u001b[0m\u001b[1;36m3\u001b[0m\u001b[1;33m,\u001b[0m\u001b[1;36m4\u001b[0m\u001b[1;33m]\u001b[0m\u001b[1;33m,\u001b[0m \u001b[1;36m4\u001b[0m\u001b[1;33m)\u001b[0m\u001b[1;33m\u001b[0m\u001b[1;33m\u001b[0m\u001b[0m\n\u001b[1;32m----> 2\u001b[1;33m \u001b[0mx\u001b[0m\u001b[1;33m[\u001b[0m\u001b[1;36m1\u001b[0m\u001b[1;33m]\u001b[0m \u001b[1;33m=\u001b[0m \u001b[1;36m400\u001b[0m\u001b[1;33m\u001b[0m\u001b[1;33m\u001b[0m\u001b[0m\n\u001b[0m",
      "\u001b[1;31mTypeError\u001b[0m: 'tuple' object does not support item assignment"
     ]
    }
   ],
   "source": [
    "x = ([1,2,3,4], 4)\n",
    "x[1] = 400"
   ]
  },
  {
   "cell_type": "code",
   "execution_count": 59,
   "id": "d0e870f7",
   "metadata": {},
   "outputs": [
    {
     "name": "stdout",
     "output_type": "stream",
     "text": [
      "(['sun_set'], 'sun_set', 400)\n"
     ]
    }
   ],
   "source": [
    "x = (['sun_rise'], 'sun_set',400)\n",
    "x[0][0] = 'sun_set'\n",
    "print(x)"
   ]
  },
  {
   "cell_type": "code",
   "execution_count": 60,
   "id": "630ecbbe",
   "metadata": {},
   "outputs": [
    {
     "ename": "TypeError",
     "evalue": "'tuple' object does not support item assignment",
     "output_type": "error",
     "traceback": [
      "\u001b[1;31m---------------------------------------------------------------------------\u001b[0m",
      "\u001b[1;31mTypeError\u001b[0m                                 Traceback (most recent call last)",
      "\u001b[1;32m~\\AppData\\Local\\Temp/ipykernel_11348/181071674.py\u001b[0m in \u001b[0;36m<module>\u001b[1;34m\u001b[0m\n\u001b[1;32m----> 1\u001b[1;33m \u001b[0mx\u001b[0m\u001b[1;33m[\u001b[0m\u001b[1;36m2\u001b[0m\u001b[1;33m]\u001b[0m \u001b[1;33m=\u001b[0m \u001b[1;36m20\u001b[0m\u001b[1;33m\u001b[0m\u001b[1;33m\u001b[0m\u001b[0m\n\u001b[0m",
      "\u001b[1;31mTypeError\u001b[0m: 'tuple' object does not support item assignment"
     ]
    }
   ],
   "source": [
    "x[2] = 20"
   ]
  },
  {
   "cell_type": "code",
   "execution_count": null,
   "id": "11cb17ff",
   "metadata": {},
   "outputs": [],
   "source": []
  }
 ],
 "metadata": {
  "kernelspec": {
   "display_name": "Python 3 (ipykernel)",
   "language": "python",
   "name": "python3"
  },
  "language_info": {
   "codemirror_mode": {
    "name": "ipython",
    "version": 3
   },
   "file_extension": ".py",
   "mimetype": "text/x-python",
   "name": "python",
   "nbconvert_exporter": "python",
   "pygments_lexer": "ipython3",
   "version": "3.9.6"
  }
 },
 "nbformat": 4,
 "nbformat_minor": 5
}
